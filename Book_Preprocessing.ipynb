{
  "cells": [
    {
      "cell_type": "markdown",
      "metadata": {
        "id": "RWZ3m093dNrz"
      },
      "source": [
        "### Initialization"
      ]
    },
    {
      "cell_type": "code",
      "execution_count": null,
      "metadata": {
        "colab": {
          "base_uri": "https://localhost:8080/"
        },
        "id": "KQIQw2k6xOa6",
        "outputId": "98c3d09a-9d68-4ed0-a6da-2bc50b0b6082"
      },
      "outputs": [
        {
          "output_type": "stream",
          "name": "stdout",
          "text": [
            "Mounted at /content/gdrive\n"
          ]
        }
      ],
      "source": [
        "from google.colab import drive\n",
        "drive.mount('/content/gdrive', force_remount=True)"
      ]
    },
    {
      "cell_type": "code",
      "execution_count": null,
      "metadata": {
        "id": "yxAx83DdYTSR"
      },
      "outputs": [],
      "source": [
        "import csv\n",
        "import gc\n",
        "import gzip\n",
        "import json\n",
        "from lxml import html\n",
        "import numpy as np\n",
        "import os\n",
        "import pandas as pd\n",
        "import pickle\n",
        "import random\n",
        "import re\n",
        "import requests\n",
        "import string\n",
        "from string import ascii_letters\n",
        "import sys\n",
        "from tqdm import tqdm"
      ]
    },
    {
      "cell_type": "markdown",
      "metadata": {
        "id": "CNrLBTnDgP9s"
      },
      "source": [
        "# Dataset USCD Book Graph from GoodReads"
      ]
    },
    {
      "cell_type": "code",
      "execution_count": null,
      "metadata": {
        "id": "DfgsxLSiGAFD"
      },
      "outputs": [],
      "source": [
        "def load_data(file_name, head = 999999):\n",
        "    count = 0\n",
        "    data = []\n",
        "    with gzip.open(file_name) as fin:\n",
        "        for l in fin:\n",
        "            d = json.loads(l)\n",
        "            count += 1\n",
        "            data.append(d)\n",
        "            \n",
        "            if (head is not None) and (count > head):\n",
        "                break\n",
        "    return data"
      ]
    },
    {
      "cell_type": "code",
      "execution_count": null,
      "metadata": {
        "id": "XlekUBgigQni"
      },
      "outputs": [],
      "source": [
        "DIR = '/content/gdrive/Shareddrives/LSMSD-BookSocialNetwork/books/'"
      ]
    },
    {
      "cell_type": "markdown",
      "metadata": {
        "id": "4n7KB-zuDssO"
      },
      "source": [
        "Preprocessing mainly needed for **MongoDB**"
      ]
    },
    {
      "cell_type": "markdown",
      "metadata": {
        "id": "cj918F5RF2v9"
      },
      "source": [
        "## Books"
      ]
    },
    {
      "cell_type": "code",
      "execution_count": null,
      "metadata": {
        "id": "-ScFvjeaioBn"
      },
      "outputs": [],
      "source": [
        "book_dict = {\n",
        "      'isbn' : '',\n",
        "      'title' : '',\n",
        "      'language' : '',\n",
        "      'category' : '',\n",
        "      'bookId' : 0,\n",
        "      'publisher' : '',\n",
        "      'description' : '',\n",
        "      'numPages' : 0,\n",
        "      'imageURL' : '',\n",
        "      'author' : '',\n",
        "      'publicationYear' : 0,\n",
        "      'reviews' : [\n",
        "      ]\n",
        "}"
      ]
    },
    {
      "cell_type": "markdown",
      "metadata": {
        "id": "CVlOyyJkjY-4"
      },
      "source": [
        "### Function Definition"
      ]
    },
    {
      "cell_type": "code",
      "execution_count": null,
      "metadata": {
        "id": "16NrCX_uMFX3"
      },
      "outputs": [],
      "source": [
        "dict_doppioni = {}"
      ]
    },
    {
      "cell_type": "code",
      "execution_count": null,
      "metadata": {
        "colab": {
          "base_uri": "https://localhost:8080/"
        },
        "id": "0mgKpGghUyUP",
        "outputId": "f740db13-a080-482a-d28e-e4214944f3a1"
      },
      "outputs": [
        {
          "data": {
            "text/plain": [
              "219861"
            ]
          },
          "execution_count": 4,
          "metadata": {},
          "output_type": "execute_result"
        }
      ],
      "source": [
        "len(dict_doppioni)"
      ]
    },
    {
      "cell_type": "markdown",
      "metadata": {
        "id": "P-R9TjkvV40h"
      },
      "source": [
        "You can reuse the pre-computed dictionary_doppioni"
      ]
    },
    {
      "cell_type": "code",
      "execution_count": null,
      "metadata": {
        "id": "V49wmmEv5qUE"
      },
      "outputs": [],
      "source": [
        "def create_json_book(file, category_array, filejson):\n",
        "  books = load_data(os.path.join(DIR,file), head=99999)\n",
        "  length = len(category_array)\n",
        "\n",
        "  filename = 'books_' + filejson + '.json'\n",
        "\n",
        "  # create the file\n",
        "  f = open(filename, \"x\")\n",
        "  f.close()\n",
        "\n",
        "  with open(filename, 'a', encoding='utf-8') as f:\n",
        "    f.write('[')\n",
        "    i = 0\n",
        "    for libro in books:\n",
        "      book_json = book_dict\n",
        "      \n",
        "      # skip books with missing parameters\n",
        "      if libro['isbn13'] == '' or libro['language_code'] == '' or libro['num_pages'] == '':\n",
        "        continue\n",
        "\n",
        "      if libro['isbn13'] in dict_doppioni:\n",
        "        continue\n",
        "      else:\n",
        "        dict_doppioni[libro['isbn13']] = True\n",
        "\n",
        "      if i != 0:\n",
        "        f.write(',')\n",
        "\n",
        "      book_json['title'] = libro['title']\n",
        "      book_json['isbn'] = libro['isbn13']\n",
        "      book_json['bookId'] = libro['book_id']\n",
        "      if len(libro['authors']) != 0:\n",
        "        book_json['author'] = mapping_id_author[libro['authors'][0]['author_id']]\n",
        "      else:\n",
        "        book_json['author'] = 'Unknown'\n",
        "\n",
        "      book_json['language'] = libro['language_code']\n",
        "      book_json['category'] = category_array[random.randint(0, length-1)]\n",
        "      book_json['description'] =  libro['description']\n",
        "      book_json['publisher'] = libro['publisher']\n",
        "      book_json['numPages'] = int(libro['num_pages'])\n",
        "      book_json['publicationYear'] = libro['publication_year']\n",
        "      book_json['imageURL'] = libro['image_url']\n",
        "\n",
        "      i = i + 1\n",
        "\n",
        "      json.dump(book_json, f, ensure_ascii=False, indent=4)\n",
        "\n",
        "    f.write(']')\n",
        "\n",
        "  return "
      ]
    },
    {
      "cell_type": "code",
      "execution_count": null,
      "metadata": {
        "id": "Bi3GeNIOngdd"
      },
      "outputs": [],
      "source": [
        "def return_list_book_and_titles(file):\n",
        "  books = load_data(os.path.join(DIR,file), head=99999)\n",
        "\n",
        "  list_books = []\n",
        "  list_titles = []\n",
        "  list_book_id = []\n",
        "  list_img = []\n",
        "  list_author = []\n",
        "\n",
        "  for libro in books:\n",
        "    if libro['isbn13'] == '' or libro['language_code'] == '' or libro['num_pages'] == '':\n",
        "      continue\n",
        "\n",
        "    if libro['isbn13'] in dict_doppioni:\n",
        "      continue\n",
        "    else:\n",
        "      dict_doppioni[libro['isbn13']] = True\n",
        "    \n",
        "    list_books.append(libro['isbn13'])\n",
        "    list_titles.append(libro['title'])\n",
        "    list_book_id.append(libro['book_id'])\n",
        "    list_img.append(libro['image_url'])\n",
        "\n",
        "    if len(libro['authors']) != 0:\n",
        "      list_author.append(mapping_id_author[libro['authors'][0]['author_id']])\n",
        "    else:\n",
        "      list_author.append('Unknown')\n",
        "\n",
        "  return list_books, list_titles, list_book_id, list_img, list_author"
      ]
    },
    {
      "cell_type": "code",
      "execution_count": null,
      "metadata": {
        "id": "Y7LbrAt5n1cT"
      },
      "outputs": [],
      "source": [
        "b1, t1, id1, im1, a1  = return_list_book_and_titles('goodreads_books_children.json.gz')\n",
        "b2, t2, id2, im2, a2  = return_list_book_and_titles('goodreads_books_comics_graphic.json.gz')\n",
        "b3, t3, id3, im3, a3  = return_list_book_and_titles('goodreads_books_fantasy_paranormal.json.gz')\n",
        "b4, t4, id4, im4, a4  = return_list_book_and_titles('goodreads_books_history_biography.json.gz')\n",
        "b5, t5, id5, im5, a5  = return_list_book_and_titles('goodreads_books_mystery_thriller_crime.json.gz')\n",
        "b6, t6, id6, im6, a6  = return_list_book_and_titles('goodreads_books_poetry.json.gz')\n",
        "b7, t7, id7, im7, a7 = return_list_book_and_titles('goodreads_books_romance.json.gz')\n",
        "b8, t8, id8, im8, a8  = return_list_book_and_titles('goodreads_books_young_adult.json.gz')"
      ]
    },
    {
      "cell_type": "code",
      "execution_count": null,
      "metadata": {
        "id": "k1wlsMxEqaXm"
      },
      "outputs": [],
      "source": [
        "list_isbn = b1 + b2 + b3 + b4 + b5 + b6 + b7 + b8\n",
        "list_titles  = t1 + t2 + t3 + t4 + t5 + t6 + t7 + t8\n",
        "list_bookid = id1 + id2 + id3 + id4 + id5 + id6 + id7 + id8\n",
        "list_img_url = im1 + im2 + im3 + im4 + im5 + im6 + im7 + im8\n",
        "list_authors = a1 + a2 + a3 + a4 + a5 + a6 + a7 + a8 "
      ]
    },
    {
      "cell_type": "markdown",
      "metadata": {
        "id": "IEwJVO0ejIIe"
      },
      "source": [
        "Dictionaries useful later for Reviews and other stuff."
      ]
    },
    {
      "cell_type": "code",
      "execution_count": null,
      "metadata": {
        "id": "SAlQByQEuW97"
      },
      "outputs": [],
      "source": [
        "dictionary_bookid_to_isbn = dict(zip(list_bookid,list_isbn))\n",
        "dictionary_bookid_to_title = dict(zip(list_bookid,list_titles))"
      ]
    },
    {
      "cell_type": "markdown",
      "metadata": {
        "id": "djL-V3CSjePM"
      },
      "source": [
        "### Creation of JSON file"
      ]
    },
    {
      "cell_type": "markdown",
      "metadata": {
        "id": "6X5jxlc3wwuU"
      },
      "source": [
        "Create JSON file for books category."
      ]
    },
    {
      "cell_type": "code",
      "execution_count": null,
      "metadata": {
        "id": "8KUWB7WR59ua"
      },
      "outputs": [],
      "source": [
        "create_json_book('goodreads_books_children.json.gz',['Picture Book', 'Easy Reader'],'children')\n",
        "create_json_book('goodreads_books_comics_graphic.json.gz',['Comics','Graphic Novels'],'comics')\n",
        "create_json_book('goodreads_books_fantasy_paranormal.json.gz',['Fantasy','Paranormal'],'fantasy')\n",
        "create_json_book('goodreads_books_history_biography.json.gz',['History','Biography'],'history')\n",
        "create_json_book('goodreads_books_mystery_thriller_crime.json.gz',['Mystery','Thriller','Crime'],'crime')\n",
        "create_json_book('goodreads_books_poetry.json.gz',['Love Poems', 'Anthology', 'Poetry'],'poetry')\n",
        "create_json_book('goodreads_books_romance.json.gz',['Erotic Romance', 'Romantic Suspense', 'Romance'],'romance')\n",
        "create_json_book('goodreads_books_young_adult.json.gz',['Adventures','Diary','Family and Relationship','Young Fiction'],'young')"
      ]
    },
    {
      "cell_type": "markdown",
      "metadata": {
        "id": "4UnIzY-VFARB"
      },
      "source": [
        "* Children:(**28648**)\n",
        "* Comics:(**38464**)\n",
        "* Fantasy:(**37119**)\n",
        "* History:(**29735**)\n",
        "* Mistery:(**35265**)\n",
        "* Poetry:(**10180**)\n",
        "* Romance:(**27348**)\n",
        "* Young:(**39807**)\n",
        "\n",
        "For a total of **246.566** books."
      ]
    },
    {
      "cell_type": "markdown",
      "metadata": {
        "id": "Xo4oGXjiF1HR"
      },
      "source": [
        "## Authors"
      ]
    },
    {
      "cell_type": "markdown",
      "metadata": {
        "id": "sGXaKM9ajpQL"
      },
      "source": [
        "Dictionary that maps *author_id* into name of the **author**."
      ]
    },
    {
      "cell_type": "code",
      "execution_count": null,
      "metadata": {
        "id": "kyO_cfHvF5Ud"
      },
      "outputs": [],
      "source": [
        "mapping_id_author = {}\n",
        "autori = load_data('/content/gdrive/Shareddrives/LSMSD-BookSocialNetwork/goodreads_book_authors.json.gz')"
      ]
    },
    {
      "cell_type": "code",
      "execution_count": null,
      "metadata": {
        "colab": {
          "base_uri": "https://localhost:8080/"
        },
        "id": "hVcLgssPGN8x",
        "outputId": "dca38755-810a-43ab-bb11-a7416e0c619b"
      },
      "outputs": [
        {
          "name": "stderr",
          "output_type": "stream",
          "text": [
            "100%|██████████| 829529/829529 [00:01<00:00, 460153.35it/s]\n"
          ]
        }
      ],
      "source": [
        "for aut in tqdm(autori):\n",
        "  id = aut['author_id']\n",
        "  name = aut['name']\n",
        "  mapping_id_author[id] = name"
      ]
    },
    {
      "cell_type": "markdown",
      "metadata": {
        "id": "xbPOXyaiJLeF"
      },
      "source": [
        "## Reviews"
      ]
    },
    {
      "cell_type": "code",
      "execution_count": null,
      "metadata": {
        "id": "gTGg52wrOqMF"
      },
      "outputs": [],
      "source": [
        "DIR = '/content/gdrive/Shareddrives/LSMSD-BookSocialNetwork/reviews/'"
      ]
    },
    {
      "cell_type": "code",
      "execution_count": null,
      "metadata": {
        "id": "rumLFDq0xIaq"
      },
      "outputs": [],
      "source": [
        "def return_df_review_category(file):\n",
        "  reviews = load_data(os.path.join(DIR,file), head=75000)\n",
        "\n",
        "  list_users = []\n",
        "  list_isbn = []\n",
        "  list_titles = []\n",
        "  list_review_text = []\n",
        "  list_ratings = []\n",
        "  list_reviewId = []\n",
        "\n",
        "  for review in tqdm(reviews):\n",
        "\n",
        "    book_id = review['book_id']\n",
        "    print(review)\n",
        "    # controllo necessario poiché alcuni libri non li abbiamo presi in considerazione\n",
        "    # e qui ci sono invece tutte le recensioni \n",
        "    if book_id in dictionary_bookid_to_isbn:\n",
        "      print(\"a\")\n",
        "      pass\n",
        "    else:\n",
        "      continue\n",
        "\n",
        "    # alcune review non hanno il testo\n",
        "    if 'review_text' in review:\n",
        "      list_review_text.append(review['review_text'])\n",
        "    else:\n",
        "      list_review_text.append('')\n",
        "\n",
        "    username = list_usernames[random.randint(0,len(list_usernames)-1)]\n",
        "    list_users.append(username)\n",
        "    isbn = dictionary_bookid_to_isbn[book_id]\n",
        "    list_isbn.append(isbn)\n",
        "    list_titles.append(dictionary_bookid_to_title[book_id])\n",
        "    \n",
        "    list_ratings.append(review['rating'])\n",
        "    review_id = username + \":\" + isbn\n",
        "    list_reviewId.append(review_id)\n",
        "\n",
        "  reviews_df = pd.DataFrame(list(zip(list_users, list_isbn, list_titles, list_review_text, list_ratings, list_reviewId)), columns =['Username','ISBN','Title','Review_Text','Rating','reviewID'])\n",
        "\n",
        "  return reviews_df"
      ]
    },
    {
      "cell_type": "code",
      "execution_count": null,
      "metadata": {
        "colab": {
          "background_save": true
        },
        "id": "VztTzX09EYog",
        "outputId": "a1dccad8-0d65-4703-ca87-6c9d04aac8c0"
      },
      "outputs": [
        {
          "name": "stderr",
          "output_type": "stream",
          "text": [
            "100%|██████████| 75001/75001 [00:00<00:00, 1091932.42it/s]\n"
          ]
        }
      ],
      "source": [
        "children_df = return_df_review_category('goodreads_reviews_children.json.gz')"
      ]
    },
    {
      "cell_type": "code",
      "execution_count": null,
      "metadata": {
        "id": "XscbkPdS1zUD"
      },
      "outputs": [],
      "source": [
        "children_df = return_df_review_category('goodreads_reviews_children.json.gz')\n",
        "children_df.to_csv(\"children_df_review.csv\")\n",
        "print(\"children children  children\\n\" + str(children_df.info()))\n",
        "\n",
        "comics_df = return_df_review_category('goodreads_reviews_comics_graphic.json.gz')\n",
        "comics_df.to_csv(\"comics_df_review.csv\")\n",
        "print(\"comics comics  comics\\n\" + str(comics_df.info()))\n",
        "\n",
        "poetry_df = return_df_review_category('goodreads_reviews_poetry.json.gz')\n",
        "poetry_df.to_csv(\"poetry_df_review.csv\")\n",
        "print(\"poetry poetry  poetry\\n\" + str(poetry_df.info()))\n",
        "\n",
        "romance_df = return_df_review_category('goodreads_reviews_romance.json.gz')\n",
        "romance_df.to_csv(\"romance_df_review.csv\")\n",
        "print(\"romance romance  romance\\n\" + str(romance_df.info()))\n",
        "\n",
        "fantasy_df = return_df_review_category('goodreads_reviews_fantasy_paranormal.json.gz')\n",
        "fantasy_df.to_csv(\"fantasy_df_review.csv\")\n",
        "print(\"fantasy fantasy  fantasy\\n\" + str(fantasy_df.info()))\n",
        "\n",
        "young_df = return_df_review_category('goodreads_reviews_young_adult.json.gz')\n",
        "young_df.to_csv(\"young_df_review.csv\")\n",
        "print(\"young young  young\\n\" + str(young_df.info()))\n",
        "\n",
        "mistery_df = return_df_review_category('goodreads_reviews_mystery_thriller_crime.json.gz')\n",
        "mistery_df.to_csv(\"mistery_df_review.csv\")\n",
        "print(\"mistery mistery  mistery\\n\" + str(mistery_df.info()))\n",
        "\n",
        "history_df = return_df_review_category('goodreads_reviews_history_biography.json.gz')\n",
        "history_df.to_csv(\"history_df_review.csv\")\n",
        "print(\"history history  history\\n\" + str(history_df.info()))"
      ]
    },
    {
      "cell_type": "markdown",
      "metadata": {
        "id": "CE7wDHjLOs2F"
      },
      "source": [
        "Number of **Reviews** taken by *Category*:\n",
        "\n",
        "* Children:(**32071**)\n",
        "* Comics:(**50446**)\n",
        "* Fantasy:(**29629**)\n",
        "* History:(**15333**)\n",
        "* Mistery:(**22195**)\n",
        "* Poetry:(**34821**)\n",
        "* Romance:(**13414** )\n",
        "* Young:(**46604**)\n",
        "\n",
        "For a total number of **253.977** Reviews.\n"
      ]
    },
    {
      "cell_type": "markdown",
      "metadata": {
        "id": "OL04gN3nvm1w"
      },
      "source": [
        "## Users"
      ]
    },
    {
      "cell_type": "code",
      "execution_count": null,
      "metadata": {
        "id": "0rJ5630na71m"
      },
      "outputs": [],
      "source": [
        "names = []\n",
        "with open('/content/gdrive/Shareddrives/LSMSD-BookSocialNetwork/RandomNames.csv', newline='') as f:\n",
        "    reader = csv.reader(f)\n",
        "    data = [tuple(row) for row in reader]\n",
        "    names.append(data)\n"
      ]
    },
    {
      "cell_type": "code",
      "execution_count": null,
      "metadata": {
        "id": "TWV7YS82fa51"
      },
      "outputs": [],
      "source": [
        "list_names = []\n",
        "for row in names[0]:\n",
        "  list_names.append(row[0])"
      ]
    },
    {
      "cell_type": "code",
      "execution_count": null,
      "metadata": {
        "colab": {
          "base_uri": "https://localhost:8080/"
        },
        "id": "0VeaFG9594PY",
        "outputId": "a4498597-9f91-4fb7-951f-9fb9d4212e73"
      },
      "outputs": [
        {
          "output_type": "execute_result",
          "data": {
            "text/plain": [
              "200000"
            ]
          },
          "metadata": {},
          "execution_count": 5
        }
      ],
      "source": [
        "len(list_names)"
      ]
    },
    {
      "cell_type": "code",
      "execution_count": null,
      "metadata": {
        "id": "1lkj8yAZfKOd"
      },
      "outputs": [],
      "source": [
        "list_names_deduplicate = list(dict.fromkeys(list_names))"
      ]
    },
    {
      "cell_type": "code",
      "execution_count": null,
      "metadata": {
        "id": "199kpQOXxxhV"
      },
      "outputs": [],
      "source": [
        "list_usernames = []\n",
        "for name in list_names_deduplicate:\n",
        "  list_string = name.split()\n",
        "  if list_string[0] == 'Mrs.' or list_string[0] == 'Mr.' or list_string[0] == 'Miss.' or list_string[0] == 'Ms.' or list_string[0] == 'Dr.':\n",
        "    string = list_string[1] + '_' + list_string[2]\n",
        "  else:\n",
        "    string = list_string[0] + '_' + list_string[1]\n",
        "  \n",
        "  list_usernames.append(string)"
      ]
    },
    {
      "cell_type": "code",
      "source": [
        "len(list_usernames)"
      ],
      "metadata": {
        "colab": {
          "base_uri": "https://localhost:8080/"
        },
        "id": "L_9JqDOUK_H-",
        "outputId": "85dc23a8-f4a4-43ba-ca76-56c0b89c6fb3"
      },
      "execution_count": null,
      "outputs": [
        {
          "output_type": "execute_result",
          "data": {
            "text/plain": [
              "119961"
            ]
          },
          "metadata": {},
          "execution_count": 13
        }
      ]
    },
    {
      "cell_type": "code",
      "source": [
        "DEDUPLICATO = list(set(list_usernames))"
      ],
      "metadata": {
        "id": "mWnEvIUWamAI"
      },
      "execution_count": null,
      "outputs": []
    },
    {
      "cell_type": "code",
      "source": [
        "list_usernames = DEDUPLICATO"
      ],
      "metadata": {
        "id": "EPYlJBxpasbY"
      },
      "execution_count": null,
      "outputs": []
    },
    {
      "cell_type": "code",
      "source": [
        "len(list_usernames)"
      ],
      "metadata": {
        "colab": {
          "base_uri": "https://localhost:8080/"
        },
        "id": "LtMBfuugLTRu",
        "outputId": "1e7e897c-fb06-4d00-ca17-ff848cccd86d"
      },
      "execution_count": null,
      "outputs": [
        {
          "output_type": "execute_result",
          "data": {
            "text/plain": [
              "115449"
            ]
          },
          "metadata": {},
          "execution_count": 19
        }
      ]
    },
    {
      "cell_type": "markdown",
      "source": [
        "It is useful to retrieve the original name and surname"
      ],
      "metadata": {
        "id": "kE_wFZ1AMLp5"
      }
    },
    {
      "cell_type": "code",
      "source": [
        "list_names = []\n",
        "list_surnames = []\n",
        "for username in list_usernames:\n",
        "  string = username.split('_')\n",
        "  list_names.append(string[0])\n",
        "  list_surnames.append(string[1])\n"
      ],
      "metadata": {
        "id": "9MW4xlGDLfgx"
      },
      "execution_count": null,
      "outputs": []
    },
    {
      "cell_type": "markdown",
      "metadata": {
        "id": "BTOJv7ihzG3x"
      },
      "source": [
        "Per la **mail** fai name.surname@gmail.com."
      ]
    },
    {
      "cell_type": "markdown",
      "metadata": {
        "id": "Hb_ktMv2zRV5"
      },
      "source": [
        "Per la **password** inventa una combinazione alfanumerica di 8 cifre."
      ]
    },
    {
      "cell_type": "markdown",
      "metadata": {
        "id": "Ac5wQTflzcPg"
      },
      "source": [
        "Per la lista di **favourite** e le **readingList** direi di creare una lista di ISBN presenti nella nostra applicazione, poi sceglierne il numero che vogliamo a caso nella lista."
      ]
    },
    {
      "cell_type": "code",
      "execution_count": null,
      "metadata": {
        "id": "X5XvQjCGOxfT"
      },
      "outputs": [],
      "source": [
        "user_dict = {\n",
        "             'username' : '', \n",
        "             'name' : '', \n",
        "             'surname' : '', \n",
        "             'email' : '',\n",
        "             'numReviews' : 0,\n",
        "             'password' : '',\n",
        "             'isAdministrator' : False,\n",
        "             'favourite' : [ ],\n",
        "             'reviews' : [ ],\n",
        "             'readingList' : [ ]\n",
        "}"
      ]
    },
    {
      "cell_type": "markdown",
      "metadata": {
        "id": "VKmOyD4dPuXp"
      },
      "source": [
        "**ReviewID** è l'id del **reviewer** quindi dell'*utente* due punti l'isbn del libro, considerando che un utente può fare una sola review di un libro."
      ]
    },
    {
      "cell_type": "markdown",
      "metadata": {
        "id": "M1xO39H1eYhQ"
      },
      "source": [
        "Qui creato lo **users.json**"
      ]
    },
    {
      "cell_type": "code",
      "execution_count": null,
      "metadata": {
        "id": "lc0nPxiZQL3j"
      },
      "outputs": [],
      "source": [
        "import string"
      ]
    },
    {
      "cell_type": "code",
      "execution_count": null,
      "metadata": {
        "id": "LyPCpI5gijSw",
        "colab": {
          "base_uri": "https://localhost:8080/"
        },
        "outputId": "e28517ca-28ac-480f-ccd2-fcf9dc28fc4c"
      },
      "outputs": [
        {
          "output_type": "stream",
          "name": "stdout",
          "text": [
            "115449\n"
          ]
        }
      ],
      "source": [
        "with open('users.json', 'a', encoding='utf-8') as f:\n",
        "\n",
        "  # note that the file must exists yet to function\n",
        "  i = 0\n",
        "  f.write('[')\n",
        "  for name in list_usernames:\n",
        "    if i != 0:\n",
        "      f.write(',')\n",
        "\n",
        "    data = user_dict\n",
        "    list_string = name.split('_')\n",
        "    data['username'] = list_string[0] + '_' + list_string[1]\n",
        "    data['name'] = list_string[0]\n",
        "    data['surname'] = list_string[1]\n",
        "    data['email'] = list_string[1] + '.' + list_string[0] + '@gmail.com'\n",
        "    data['password'] = ''.join(random.choices(string.ascii_letters + string.digits, k=16))\n",
        "    json.dump(data, f, ensure_ascii=False, indent=4)\n",
        "    i = i+1\n",
        "    \n",
        "  f.write(']')\n",
        "\n",
        "\n",
        "print(i)"
      ]
    },
    {
      "cell_type": "markdown",
      "metadata": {
        "id": "aQW_E0Q70YdV"
      },
      "source": [
        "## Create Favourite Dataframe"
      ]
    },
    {
      "cell_type": "code",
      "execution_count": null,
      "metadata": {
        "colab": {
          "base_uri": "https://localhost:8080/"
        },
        "id": "cFpNx04N1EwL",
        "outputId": "b106c880-e619-4d2e-dc45-a2d18a7431ed"
      },
      "outputs": [
        {
          "name": "stderr",
          "output_type": "stream",
          "text": [
            "100%|██████████| 400000/400000 [00:08<00:00, 47554.07it/s] \n"
          ]
        }
      ],
      "source": [
        "fav_isbn = []\n",
        "fav_username = []\n",
        "fav_title = []\n",
        "fav_imageURL = []\n",
        "fav_author = []\n",
        "\n",
        "\n",
        "map_isbn_user = {}\n",
        "\n",
        "for i in tqdm(range(0,400000)):\n",
        "  index = random.randint(0,len(list_isbn)-1)\n",
        "\n",
        "  # se l'isbn è nel dictionary\n",
        "  if list_isbn[index] in map_isbn_user:\n",
        "    list_user_per_isbn = map_isbn_user[list_isbn[index]]\n",
        "  else: # se non lo è creo la sua key e metto array vuoto\n",
        "    map_isbn_user[list_isbn[index]] = []\n",
        "    list_user_per_isbn = []\n",
        "\n",
        "  user = list_usernames[random.randint(0,len(list_usernames)-1)]\n",
        "\n",
        "  if user in list_user_per_isbn:\n",
        "    continue\n",
        "  else:\n",
        "    list_user_per_isbn.append(user)\n",
        "    map_isbn_user[list_isbn[index]] = list_user_per_isbn\n",
        "\n",
        "  fav_isbn.append(list_isbn[index])\n",
        "  fav_username.append(user)\n",
        "  fav_title.append(list_titles[index])\n",
        "  fav_imageURL.append(list_img_url[index])\n",
        "  fav_author.append(list_authors[index])\n",
        "\n",
        "\n",
        "favourite_df = pd.DataFrame(list(zip(fav_isbn, fav_username, fav_title, fav_imageURL, fav_author)), columns =['ISBN','username','title','imageURL','author'])\n",
        "  \n",
        "  \n",
        " "
      ]
    },
    {
      "cell_type": "code",
      "execution_count": null,
      "metadata": {
        "colab": {
          "base_uri": "https://localhost:8080/"
        },
        "id": "dc3g-t9X4fK9",
        "outputId": "46d2e018-9ba9-495b-9da7-5485b5f08a69"
      },
      "outputs": [
        {
          "data": {
            "text/html": [
              "\n",
              "  <div id=\"df-05d4e832-7bad-4edf-a350-5698fcf8da57\">\n",
              "    <div class=\"colab-df-container\">\n",
              "      <div>\n",
              "<style scoped>\n",
              "    .dataframe tbody tr th:only-of-type {\n",
              "        vertical-align: middle;\n",
              "    }\n",
              "\n",
              "    .dataframe tbody tr th {\n",
              "        vertical-align: top;\n",
              "    }\n",
              "\n",
              "    .dataframe thead th {\n",
              "        text-align: right;\n",
              "    }\n",
              "</style>\n",
              "<table border=\"1\" class=\"dataframe\">\n",
              "  <thead>\n",
              "    <tr style=\"text-align: right;\">\n",
              "      <th></th>\n",
              "      <th>ISBN</th>\n",
              "      <th>username</th>\n",
              "      <th>title</th>\n",
              "      <th>imageURL</th>\n",
              "      <th>author</th>\n",
              "    </tr>\n",
              "  </thead>\n",
              "  <tbody>\n",
              "    <tr>\n",
              "      <th>0</th>\n",
              "      <td>9781469984018</td>\n",
              "      <td>Terrence_Roth</td>\n",
              "      <td>The Boy Who Sneaks in My Bedroom Window</td>\n",
              "      <td>https://images.gr-assets.com/books/1398682775m...</td>\n",
              "      <td>Kirsty Moseley</td>\n",
              "    </tr>\n",
              "    <tr>\n",
              "      <th>1</th>\n",
              "      <td>9780988028623</td>\n",
              "      <td>Barbara_Kennedy</td>\n",
              "      <td>Sleepy Bunny - A Nap Time Tail</td>\n",
              "      <td>https://images.gr-assets.com/books/1362159817m...</td>\n",
              "      <td>Gregory Isherwood</td>\n",
              "    </tr>\n",
              "    <tr>\n",
              "      <th>2</th>\n",
              "      <td>9780316099691</td>\n",
              "      <td>Calvin_Hall</td>\n",
              "      <td>The Matchmaker</td>\n",
              "      <td>https://images.gr-assets.com/books/1415581022m...</td>\n",
              "      <td>Elin Hilderbrand</td>\n",
              "    </tr>\n",
              "    <tr>\n",
              "      <th>3</th>\n",
              "      <td>9780374173616</td>\n",
              "      <td>Rachel_Gilbert</td>\n",
              "      <td>Metaphysical Dog</td>\n",
              "      <td>https://images.gr-assets.com/books/1376835260m...</td>\n",
              "      <td>Frank Bidart</td>\n",
              "    </tr>\n",
              "    <tr>\n",
              "      <th>4</th>\n",
              "      <td>9781480568372</td>\n",
              "      <td>Stephen_Greene</td>\n",
              "      <td>Love Letters to the Dead</td>\n",
              "      <td>https://images.gr-assets.com/books/1395614083m...</td>\n",
              "      <td>Ava Dellaira</td>\n",
              "    </tr>\n",
              "    <tr>\n",
              "      <th>...</th>\n",
              "      <td>...</td>\n",
              "      <td>...</td>\n",
              "      <td>...</td>\n",
              "      <td>...</td>\n",
              "      <td>...</td>\n",
              "    </tr>\n",
              "    <tr>\n",
              "      <th>399992</th>\n",
              "      <td>9780987155139</td>\n",
              "      <td>Anna_Davis</td>\n",
              "      <td>Cyanide and Poppies (Eleanor Jones, #2)</td>\n",
              "      <td>https://images.gr-assets.com/books/1354864121m...</td>\n",
              "      <td>Carolyn Morwood</td>\n",
              "    </tr>\n",
              "    <tr>\n",
              "      <th>399993</th>\n",
              "      <td>9789792257755</td>\n",
              "      <td>Matthew_Potts</td>\n",
              "      <td>Ajdar</td>\n",
              "      <td>https://images.gr-assets.com/books/1275464868m...</td>\n",
              "      <td>Marjane Satrapi</td>\n",
              "    </tr>\n",
              "    <tr>\n",
              "      <th>399994</th>\n",
              "      <td>9785410007511</td>\n",
              "      <td>Brandon_Hardy</td>\n",
              "      <td>Vilkaču mantiniece</td>\n",
              "      <td>https://images.gr-assets.com/books/1427981774m...</td>\n",
              "      <td>Ilona Leimane</td>\n",
              "    </tr>\n",
              "    <tr>\n",
              "      <th>399995</th>\n",
              "      <td>9786076212912</td>\n",
              "      <td>Barbara_Stevens</td>\n",
              "      <td>Tanto que contarte</td>\n",
              "      <td>https://images.gr-assets.com/books/1454980911m...</td>\n",
              "      <td>John Marsden</td>\n",
              "    </tr>\n",
              "    <tr>\n",
              "      <th>399996</th>\n",
              "      <td>9780140298543</td>\n",
              "      <td>Sarah_Lara</td>\n",
              "      <td>My War Gone By, I Miss It So</td>\n",
              "      <td>https://images.gr-assets.com/books/1291491296m...</td>\n",
              "      <td>Anthony Loyd</td>\n",
              "    </tr>\n",
              "  </tbody>\n",
              "</table>\n",
              "<p>399997 rows × 5 columns</p>\n",
              "</div>\n",
              "      <button class=\"colab-df-convert\" onclick=\"convertToInteractive('df-05d4e832-7bad-4edf-a350-5698fcf8da57')\"\n",
              "              title=\"Convert this dataframe to an interactive table.\"\n",
              "              style=\"display:none;\">\n",
              "        \n",
              "  <svg xmlns=\"http://www.w3.org/2000/svg\" height=\"24px\"viewBox=\"0 0 24 24\"\n",
              "       width=\"24px\">\n",
              "    <path d=\"M0 0h24v24H0V0z\" fill=\"none\"/>\n",
              "    <path d=\"M18.56 5.44l.94 2.06.94-2.06 2.06-.94-2.06-.94-.94-2.06-.94 2.06-2.06.94zm-11 1L8.5 8.5l.94-2.06 2.06-.94-2.06-.94L8.5 2.5l-.94 2.06-2.06.94zm10 10l.94 2.06.94-2.06 2.06-.94-2.06-.94-.94-2.06-.94 2.06-2.06.94z\"/><path d=\"M17.41 7.96l-1.37-1.37c-.4-.4-.92-.59-1.43-.59-.52 0-1.04.2-1.43.59L10.3 9.45l-7.72 7.72c-.78.78-.78 2.05 0 2.83L4 21.41c.39.39.9.59 1.41.59.51 0 1.02-.2 1.41-.59l7.78-7.78 2.81-2.81c.8-.78.8-2.07 0-2.86zM5.41 20L4 18.59l7.72-7.72 1.47 1.35L5.41 20z\"/>\n",
              "  </svg>\n",
              "      </button>\n",
              "      \n",
              "  <style>\n",
              "    .colab-df-container {\n",
              "      display:flex;\n",
              "      flex-wrap:wrap;\n",
              "      gap: 12px;\n",
              "    }\n",
              "\n",
              "    .colab-df-convert {\n",
              "      background-color: #E8F0FE;\n",
              "      border: none;\n",
              "      border-radius: 50%;\n",
              "      cursor: pointer;\n",
              "      display: none;\n",
              "      fill: #1967D2;\n",
              "      height: 32px;\n",
              "      padding: 0 0 0 0;\n",
              "      width: 32px;\n",
              "    }\n",
              "\n",
              "    .colab-df-convert:hover {\n",
              "      background-color: #E2EBFA;\n",
              "      box-shadow: 0px 1px 2px rgba(60, 64, 67, 0.3), 0px 1px 3px 1px rgba(60, 64, 67, 0.15);\n",
              "      fill: #174EA6;\n",
              "    }\n",
              "\n",
              "    [theme=dark] .colab-df-convert {\n",
              "      background-color: #3B4455;\n",
              "      fill: #D2E3FC;\n",
              "    }\n",
              "\n",
              "    [theme=dark] .colab-df-convert:hover {\n",
              "      background-color: #434B5C;\n",
              "      box-shadow: 0px 1px 3px 1px rgba(0, 0, 0, 0.15);\n",
              "      filter: drop-shadow(0px 1px 2px rgba(0, 0, 0, 0.3));\n",
              "      fill: #FFFFFF;\n",
              "    }\n",
              "  </style>\n",
              "\n",
              "      <script>\n",
              "        const buttonEl =\n",
              "          document.querySelector('#df-05d4e832-7bad-4edf-a350-5698fcf8da57 button.colab-df-convert');\n",
              "        buttonEl.style.display =\n",
              "          google.colab.kernel.accessAllowed ? 'block' : 'none';\n",
              "\n",
              "        async function convertToInteractive(key) {\n",
              "          const element = document.querySelector('#df-05d4e832-7bad-4edf-a350-5698fcf8da57');\n",
              "          const dataTable =\n",
              "            await google.colab.kernel.invokeFunction('convertToInteractive',\n",
              "                                                     [key], {});\n",
              "          if (!dataTable) return;\n",
              "\n",
              "          const docLinkHtml = 'Like what you see? Visit the ' +\n",
              "            '<a target=\"_blank\" href=https://colab.research.google.com/notebooks/data_table.ipynb>data table notebook</a>'\n",
              "            + ' to learn more about interactive tables.';\n",
              "          element.innerHTML = '';\n",
              "          dataTable['output_type'] = 'display_data';\n",
              "          await google.colab.output.renderOutput(dataTable, element);\n",
              "          const docLink = document.createElement('div');\n",
              "          docLink.innerHTML = docLinkHtml;\n",
              "          element.appendChild(docLink);\n",
              "        }\n",
              "      </script>\n",
              "    </div>\n",
              "  </div>\n",
              "  "
            ],
            "text/plain": [
              "                 ISBN         username  \\\n",
              "0       9781469984018    Terrence_Roth   \n",
              "1       9780988028623  Barbara_Kennedy   \n",
              "2       9780316099691      Calvin_Hall   \n",
              "3       9780374173616   Rachel_Gilbert   \n",
              "4       9781480568372   Stephen_Greene   \n",
              "...               ...              ...   \n",
              "399992  9780987155139       Anna_Davis   \n",
              "399993  9789792257755    Matthew_Potts   \n",
              "399994  9785410007511    Brandon_Hardy   \n",
              "399995  9786076212912  Barbara_Stevens   \n",
              "399996  9780140298543       Sarah_Lara   \n",
              "\n",
              "                                          title  \\\n",
              "0       The Boy Who Sneaks in My Bedroom Window   \n",
              "1                Sleepy Bunny - A Nap Time Tail   \n",
              "2                                The Matchmaker   \n",
              "3                              Metaphysical Dog   \n",
              "4                      Love Letters to the Dead   \n",
              "...                                         ...   \n",
              "399992  Cyanide and Poppies (Eleanor Jones, #2)   \n",
              "399993                                    Ajdar   \n",
              "399994                       Vilkaču mantiniece   \n",
              "399995                       Tanto que contarte   \n",
              "399996             My War Gone By, I Miss It So   \n",
              "\n",
              "                                                 imageURL             author  \n",
              "0       https://images.gr-assets.com/books/1398682775m...     Kirsty Moseley  \n",
              "1       https://images.gr-assets.com/books/1362159817m...  Gregory Isherwood  \n",
              "2       https://images.gr-assets.com/books/1415581022m...   Elin Hilderbrand  \n",
              "3       https://images.gr-assets.com/books/1376835260m...       Frank Bidart  \n",
              "4       https://images.gr-assets.com/books/1395614083m...       Ava Dellaira  \n",
              "...                                                   ...                ...  \n",
              "399992  https://images.gr-assets.com/books/1354864121m...    Carolyn Morwood  \n",
              "399993  https://images.gr-assets.com/books/1275464868m...    Marjane Satrapi  \n",
              "399994  https://images.gr-assets.com/books/1427981774m...      Ilona Leimane  \n",
              "399995  https://images.gr-assets.com/books/1454980911m...       John Marsden  \n",
              "399996  https://images.gr-assets.com/books/1291491296m...       Anthony Loyd  \n",
              "\n",
              "[399997 rows x 5 columns]"
            ]
          },
          "execution_count": 34,
          "metadata": {},
          "output_type": "execute_result"
        }
      ],
      "source": [
        "favourite_df"
      ]
    },
    {
      "cell_type": "code",
      "execution_count": null,
      "metadata": {
        "id": "NPRYTEO74_5f"
      },
      "outputs": [],
      "source": [
        "favourite_df.to_csv(\"favourite_df.csv\")"
      ]
    },
    {
      "cell_type": "markdown",
      "metadata": {
        "id": "99QtpY9iaUho"
      },
      "source": [
        "## Create ReadingList Dataframe"
      ]
    },
    {
      "cell_type": "code",
      "execution_count": null,
      "metadata": {
        "colab": {
          "base_uri": "https://localhost:8080/"
        },
        "id": "5UU8XM2iaYP4",
        "outputId": "fca25322-e602-44fe-c0ca-c6b0bd4487c4"
      },
      "outputs": [
        {
          "name": "stdout",
          "output_type": "stream",
          "text": [
            "Looking in indexes: https://pypi.org/simple, https://us-python.pkg.dev/colab-wheels/public/simple/\n",
            "Collecting random-word\n",
            "  Downloading Random_Word-1.0.11-py3-none-any.whl (1.2 MB)\n",
            "\u001b[K     |████████████████████████████████| 1.2 MB 12.2 MB/s \n",
            "\u001b[?25hRequirement already satisfied: pyyaml in /usr/local/lib/python3.7/dist-packages (from random-word) (6.0)\n",
            "Requirement already satisfied: pytest in /usr/local/lib/python3.7/dist-packages (from random-word) (3.6.4)\n",
            "Requirement already satisfied: requests in /usr/local/lib/python3.7/dist-packages (from random-word) (2.23.0)\n",
            "Requirement already satisfied: pluggy<0.8,>=0.5 in /usr/local/lib/python3.7/dist-packages (from pytest->random-word) (0.7.1)\n",
            "Requirement already satisfied: more-itertools>=4.0.0 in /usr/local/lib/python3.7/dist-packages (from pytest->random-word) (9.0.0)\n",
            "Requirement already satisfied: setuptools in /usr/local/lib/python3.7/dist-packages (from pytest->random-word) (57.4.0)\n",
            "Requirement already satisfied: atomicwrites>=1.0 in /usr/local/lib/python3.7/dist-packages (from pytest->random-word) (1.4.1)\n",
            "Requirement already satisfied: py>=1.5.0 in /usr/local/lib/python3.7/dist-packages (from pytest->random-word) (1.11.0)\n",
            "Requirement already satisfied: six>=1.10.0 in /usr/local/lib/python3.7/dist-packages (from pytest->random-word) (1.15.0)\n",
            "Requirement already satisfied: attrs>=17.4.0 in /usr/local/lib/python3.7/dist-packages (from pytest->random-word) (22.1.0)\n",
            "Requirement already satisfied: chardet<4,>=3.0.2 in /usr/local/lib/python3.7/dist-packages (from requests->random-word) (3.0.4)\n",
            "Requirement already satisfied: urllib3!=1.25.0,!=1.25.1,<1.26,>=1.21.1 in /usr/local/lib/python3.7/dist-packages (from requests->random-word) (1.24.3)\n",
            "Requirement already satisfied: idna<3,>=2.5 in /usr/local/lib/python3.7/dist-packages (from requests->random-word) (2.10)\n",
            "Requirement already satisfied: certifi>=2017.4.17 in /usr/local/lib/python3.7/dist-packages (from requests->random-word) (2022.9.24)\n",
            "Installing collected packages: random-word\n",
            "Successfully installed random-word-1.0.11\n"
          ]
        }
      ],
      "source": [
        "!pip install random-word\n",
        "\n",
        "from random_word import RandomWords\n",
        "r = RandomWords()\n"
      ]
    },
    {
      "cell_type": "code",
      "execution_count": null,
      "metadata": {
        "colab": {
          "base_uri": "https://localhost:8080/"
        },
        "id": "4FDcmYWVzxKe",
        "outputId": "13762810-2a20-4635-e3e2-58a16b90204c"
      },
      "outputs": [
        {
          "name": "stderr",
          "output_type": "stream",
          "text": [
            "100%|██████████| 5000/5000 [52:01<00:00,  1.60it/s]\n"
          ]
        }
      ],
      "source": [
        "rl_username = []\n",
        "\n",
        "# queste sono liste nel df\n",
        "rl_isbns = []\n",
        "rl_titles = []\n",
        "rl_imageURLs = []\n",
        "rl_authors = []\n",
        "\n",
        "rl_name = []\n",
        "\n",
        "# 30k readingList\n",
        "for i in tqdm(range(0,5000)):\n",
        "  user = list_usernames[random.randint(0,len(list_usernames)-1)]\n",
        "  rl_username.append(user)\n",
        "\n",
        "  name_reading_list = r.get_random_word() + \" \" + r.get_random_word()\n",
        "  rl_name.append(name_reading_list)\n",
        "\n",
        "  isbns = []\n",
        "  titles = []\n",
        "  imageURLs = []\n",
        "  authors = []\n",
        "\n",
        "  # a number between 0 and 5 books in one ReadingList\n",
        "  for j in range(0,random.randint(1,5)):\n",
        "    index = random.randint(0,len(list_isbn)-1)\n",
        "\n",
        "    # same book not allowed in the reading list\n",
        "    if list_isbn[index] in isbns:\n",
        "      continue\n",
        "\n",
        "    isbns.append(list_isbn[index])\n",
        "    titles.append(list_titles[index])\n",
        "    imageURLs.append(list_img_url[index])\n",
        "    authors.append(list_authors[index])\n",
        "\n",
        "\n",
        "  rl_isbns.append(isbns)\n",
        "  rl_titles.append(titles)\n",
        "  rl_imageURLs.append(imageURLs)\n",
        "  rl_authors.append(authors)\n",
        "\n",
        "rl_df = pd.DataFrame(list(zip(rl_isbns, rl_username, rl_titles, rl_imageURLs, rl_authors, rl_name)), columns =['ISBN','username','title','imageURL','author','name'])\n",
        "  \n",
        "  \n",
        " "
      ]
    },
    {
      "cell_type": "code",
      "execution_count": null,
      "metadata": {
        "colab": {
          "base_uri": "https://localhost:8080/",
          "height": 424
        },
        "id": "n6J7oHl5nZ0r",
        "outputId": "b0be5ef5-d3b6-4b9b-cb7c-73fef3c46637"
      },
      "outputs": [
        {
          "data": {
            "text/html": [
              "\n",
              "  <div id=\"df-b87d9de4-80d4-4af4-ba93-b4744de01a8e\">\n",
              "    <div class=\"colab-df-container\">\n",
              "      <div>\n",
              "<style scoped>\n",
              "    .dataframe tbody tr th:only-of-type {\n",
              "        vertical-align: middle;\n",
              "    }\n",
              "\n",
              "    .dataframe tbody tr th {\n",
              "        vertical-align: top;\n",
              "    }\n",
              "\n",
              "    .dataframe thead th {\n",
              "        text-align: right;\n",
              "    }\n",
              "</style>\n",
              "<table border=\"1\" class=\"dataframe\">\n",
              "  <thead>\n",
              "    <tr style=\"text-align: right;\">\n",
              "      <th></th>\n",
              "      <th>name</th>\n",
              "    </tr>\n",
              "  </thead>\n",
              "  <tbody>\n",
              "    <tr>\n",
              "      <th>0</th>\n",
              "      <td>Douglas_Meyer:florinda sorediferous</td>\n",
              "    </tr>\n",
              "    <tr>\n",
              "      <th>1</th>\n",
              "      <td>Andrea_Macdonald:kinaesthesias canonizant</td>\n",
              "    </tr>\n",
              "    <tr>\n",
              "      <th>2</th>\n",
              "      <td>Laura_Booker:ibidinae telefilms</td>\n",
              "    </tr>\n",
              "    <tr>\n",
              "      <th>3</th>\n",
              "      <td>Robin_Hoover:silicious quinoidation</td>\n",
              "    </tr>\n",
              "    <tr>\n",
              "      <th>4</th>\n",
              "      <td>Danielle_Schwartz:alcestis introits</td>\n",
              "    </tr>\n",
              "    <tr>\n",
              "      <th>...</th>\n",
              "      <td>...</td>\n",
              "    </tr>\n",
              "    <tr>\n",
              "      <th>4995</th>\n",
              "      <td>Kristin_Jenkins:tropeolin chamaerrhine</td>\n",
              "    </tr>\n",
              "    <tr>\n",
              "      <th>4996</th>\n",
              "      <td>Scott_Gentry:fittiest prand</td>\n",
              "    </tr>\n",
              "    <tr>\n",
              "      <th>4997</th>\n",
              "      <td>George_Gray:micracoustic transe</td>\n",
              "    </tr>\n",
              "    <tr>\n",
              "      <th>4998</th>\n",
              "      <td>Steve_Ross:externalistic sensitizing</td>\n",
              "    </tr>\n",
              "    <tr>\n",
              "      <th>4999</th>\n",
              "      <td>Eric_Skinner:nowy coholders</td>\n",
              "    </tr>\n",
              "  </tbody>\n",
              "</table>\n",
              "<p>5000 rows × 1 columns</p>\n",
              "</div>\n",
              "      <button class=\"colab-df-convert\" onclick=\"convertToInteractive('df-b87d9de4-80d4-4af4-ba93-b4744de01a8e')\"\n",
              "              title=\"Convert this dataframe to an interactive table.\"\n",
              "              style=\"display:none;\">\n",
              "        \n",
              "  <svg xmlns=\"http://www.w3.org/2000/svg\" height=\"24px\"viewBox=\"0 0 24 24\"\n",
              "       width=\"24px\">\n",
              "    <path d=\"M0 0h24v24H0V0z\" fill=\"none\"/>\n",
              "    <path d=\"M18.56 5.44l.94 2.06.94-2.06 2.06-.94-2.06-.94-.94-2.06-.94 2.06-2.06.94zm-11 1L8.5 8.5l.94-2.06 2.06-.94-2.06-.94L8.5 2.5l-.94 2.06-2.06.94zm10 10l.94 2.06.94-2.06 2.06-.94-2.06-.94-.94-2.06-.94 2.06-2.06.94z\"/><path d=\"M17.41 7.96l-1.37-1.37c-.4-.4-.92-.59-1.43-.59-.52 0-1.04.2-1.43.59L10.3 9.45l-7.72 7.72c-.78.78-.78 2.05 0 2.83L4 21.41c.39.39.9.59 1.41.59.51 0 1.02-.2 1.41-.59l7.78-7.78 2.81-2.81c.8-.78.8-2.07 0-2.86zM5.41 20L4 18.59l7.72-7.72 1.47 1.35L5.41 20z\"/>\n",
              "  </svg>\n",
              "      </button>\n",
              "      \n",
              "  <style>\n",
              "    .colab-df-container {\n",
              "      display:flex;\n",
              "      flex-wrap:wrap;\n",
              "      gap: 12px;\n",
              "    }\n",
              "\n",
              "    .colab-df-convert {\n",
              "      background-color: #E8F0FE;\n",
              "      border: none;\n",
              "      border-radius: 50%;\n",
              "      cursor: pointer;\n",
              "      display: none;\n",
              "      fill: #1967D2;\n",
              "      height: 32px;\n",
              "      padding: 0 0 0 0;\n",
              "      width: 32px;\n",
              "    }\n",
              "\n",
              "    .colab-df-convert:hover {\n",
              "      background-color: #E2EBFA;\n",
              "      box-shadow: 0px 1px 2px rgba(60, 64, 67, 0.3), 0px 1px 3px 1px rgba(60, 64, 67, 0.15);\n",
              "      fill: #174EA6;\n",
              "    }\n",
              "\n",
              "    [theme=dark] .colab-df-convert {\n",
              "      background-color: #3B4455;\n",
              "      fill: #D2E3FC;\n",
              "    }\n",
              "\n",
              "    [theme=dark] .colab-df-convert:hover {\n",
              "      background-color: #434B5C;\n",
              "      box-shadow: 0px 1px 3px 1px rgba(0, 0, 0, 0.15);\n",
              "      filter: drop-shadow(0px 1px 2px rgba(0, 0, 0, 0.3));\n",
              "      fill: #FFFFFF;\n",
              "    }\n",
              "  </style>\n",
              "\n",
              "      <script>\n",
              "        const buttonEl =\n",
              "          document.querySelector('#df-b87d9de4-80d4-4af4-ba93-b4744de01a8e button.colab-df-convert');\n",
              "        buttonEl.style.display =\n",
              "          google.colab.kernel.accessAllowed ? 'block' : 'none';\n",
              "\n",
              "        async function convertToInteractive(key) {\n",
              "          const element = document.querySelector('#df-b87d9de4-80d4-4af4-ba93-b4744de01a8e');\n",
              "          const dataTable =\n",
              "            await google.colab.kernel.invokeFunction('convertToInteractive',\n",
              "                                                     [key], {});\n",
              "          if (!dataTable) return;\n",
              "\n",
              "          const docLinkHtml = 'Like what you see? Visit the ' +\n",
              "            '<a target=\"_blank\" href=https://colab.research.google.com/notebooks/data_table.ipynb>data table notebook</a>'\n",
              "            + ' to learn more about interactive tables.';\n",
              "          element.innerHTML = '';\n",
              "          dataTable['output_type'] = 'display_data';\n",
              "          await google.colab.output.renderOutput(dataTable, element);\n",
              "          const docLink = document.createElement('div');\n",
              "          docLink.innerHTML = docLinkHtml;\n",
              "          element.appendChild(docLink);\n",
              "        }\n",
              "      </script>\n",
              "    </div>\n",
              "  </div>\n",
              "  "
            ],
            "text/plain": [
              "                                           name\n",
              "0           Douglas_Meyer:florinda sorediferous\n",
              "1     Andrea_Macdonald:kinaesthesias canonizant\n",
              "2               Laura_Booker:ibidinae telefilms\n",
              "3           Robin_Hoover:silicious quinoidation\n",
              "4           Danielle_Schwartz:alcestis introits\n",
              "...                                         ...\n",
              "4995     Kristin_Jenkins:tropeolin chamaerrhine\n",
              "4996                Scott_Gentry:fittiest prand\n",
              "4997            George_Gray:micracoustic transe\n",
              "4998       Steve_Ross:externalistic sensitizing\n",
              "4999                Eric_Skinner:nowy coholders\n",
              "\n",
              "[5000 rows x 1 columns]"
            ]
          },
          "execution_count": 73,
          "metadata": {},
          "output_type": "execute_result"
        }
      ],
      "source": [
        "rl_df"
      ]
    },
    {
      "cell_type": "code",
      "execution_count": null,
      "metadata": {
        "id": "h4gNClh2UtNX"
      },
      "outputs": [],
      "source": [
        "# mongodb -> da affiancare al df rl_df\n",
        "list_numlikes = []\n",
        "\n",
        "# neo4j\n",
        "list_names = []\n",
        "list_likers = []\n",
        "\n",
        "\n",
        "for index, row in rl_df.iterrows():\n",
        "  num_likes = random.randint(1,20)\n",
        "  list_numlikes.append(num_likes)\n",
        "  for i in range(0,num_likes):\n",
        "    list_likers.append(list_usernames[random.randint(0,len(list_usernames)-1)])\n",
        "    rlname = row['name']\n",
        "    list_names.append(rlname)\n",
        "    "
      ]
    },
    {
      "cell_type": "code",
      "execution_count": null,
      "metadata": {
        "id": "m50J7cQJdLw0"
      },
      "outputs": [],
      "source": [
        "rl_df['numLikes'] = list_numlikes"
      ]
    },
    {
      "cell_type": "code",
      "execution_count": null,
      "metadata": {
        "id": "uWBfu0awdxw9"
      },
      "outputs": [],
      "source": [
        "rl_df.to_csv(\"reading_list_df.csv\")"
      ]
    },
    {
      "cell_type": "markdown",
      "metadata": {
        "id": "0Om-spimDzll"
      },
      "source": [
        "## Neo4J preprocessing data"
      ]
    },
    {
      "cell_type": "markdown",
      "metadata": {
        "id": "fcXZWpjLEzRI"
      },
      "source": [
        "We must generate 4 entities and 6 relations:\n",
        "\n",
        "*   **User**\n",
        "*   **ReadingList**\n",
        "*   **Book**\n",
        "*   **Category**\n",
        "*   User-User -> *Follow*\n",
        "*   User-ReadingList -> *Likes*\n",
        "*   ReadingList-Book -> *Has*\n",
        "*   Book-Category -> *Belongs_to*\n",
        "*   User-Category -> *Is_interested_to*\n",
        "*   User-Book -> *Favorites*\n",
        "\n",
        "\n",
        "\n"
      ]
    },
    {
      "cell_type": "markdown",
      "metadata": {
        "id": "17I5g96JNf3U"
      },
      "source": [
        "**User**"
      ]
    },
    {
      "cell_type": "code",
      "execution_count": null,
      "metadata": {
        "id": "ErJIZOePIXlp"
      },
      "outputs": [],
      "source": [
        "user_df = pd.DataFrame(list(zip(list_usernames,list_names,list_surnames)), columns =['username','name','surname'])\n",
        "user_df.to_csv(\"user_entity.csv\", index=False)"
      ]
    },
    {
      "cell_type": "markdown",
      "metadata": {
        "id": "2TfGT46xNcxX"
      },
      "source": [
        "**Category**"
      ]
    },
    {
      "cell_type": "code",
      "execution_count": null,
      "metadata": {
        "id": "-6WBJlm8D34J"
      },
      "outputs": [],
      "source": [
        "CATEGORIES = ['Picture Book', 'Easy Reader', 'Comics','Graphic Novels', 'Fantasy','Paranormal',\n",
        "              'History','Biography', 'Mystery','Thriller','Crime', 'Love Poems',\n",
        "              'Anthology', 'Poetry', 'Erotic Romance', 'Romantic Suspense', 'Romance',\n",
        "              'Adventures','Diary','Family and Relationship','Young Fiction']"
      ]
    },
    {
      "cell_type": "code",
      "execution_count": null,
      "metadata": {
        "id": "cpLt_7pQKpfB"
      },
      "outputs": [],
      "source": [
        "categories_df = pd.DataFrame(CATEGORIES, columns =['category'])\n",
        "categories_df.to_csv(\"category_entity.csv\", index=False)"
      ]
    },
    {
      "cell_type": "markdown",
      "metadata": {
        "id": "qJ6Iln-NNbOV"
      },
      "source": [
        "**Book**"
      ]
    },
    {
      "cell_type": "code",
      "execution_count": null,
      "metadata": {
        "id": "DGjd5tVXQdEX"
      },
      "outputs": [],
      "source": [
        "book_df = pd.DataFrame(list(zip(list_isbn,list_titles,list_authors,list_img_url)), columns =['isbn','title','author','image'])\n",
        "book_df.to_csv(\n",
        "    \"book.csv\",\n",
        "    index=False)"
      ]
    },
    {
      "cell_type": "markdown",
      "metadata": {
        "id": "PIlB8M8J3JmD"
      },
      "source": [
        "**Reading List**"
      ]
    },
    {
      "cell_type": "code",
      "execution_count": null,
      "metadata": {
        "id": "4DD9cpXW3JGH"
      },
      "outputs": [],
      "source": [
        "rl_df = pd.read_csv('/content/gdrive/Shareddrives/LSMSD-BookSocialNetwork/reading_list_df.csv')"
      ]
    },
    {
      "cell_type": "code",
      "execution_count": null,
      "metadata": {
        "id": "bgEfwrP93Tc_"
      },
      "outputs": [],
      "source": [
        "list_rl = []\n",
        "\n",
        "for index, row in rl_df.iterrows():\n",
        "  rl = row['username'] + \":\" + row['name']\n",
        "  list_rl.append(rl)"
      ]
    },
    {
      "cell_type": "code",
      "execution_count": null,
      "metadata": {
        "id": "eN5QgB1S4Dad"
      },
      "outputs": [],
      "source": [
        "rl_df = pd.DataFrame(list_rl, columns =['name'])\n",
        "rl_df.to_csv(\"readinglist.csv\",index=False)"
      ]
    },
    {
      "cell_type": "markdown",
      "metadata": {
        "id": "Bu3DRHrrNJaQ"
      },
      "source": [
        "*Follow*"
      ]
    },
    {
      "cell_type": "code",
      "execution_count": null,
      "metadata": {
        "id": "VZqwqG2nXxmA"
      },
      "outputs": [],
      "source": [
        "list_src = []\n",
        "list_dst = []\n",
        "for i in range(0,500000):\n",
        "  src = list_usernames[random.randint(0,len(list_usernames)-1)]\n",
        "  dst = list_usernames[random.randint(0,len(list_usernames)-1)]\n",
        "  if src != dst:\n",
        "    list_src.append(src)\n",
        "    list_dst.append(dst)"
      ]
    },
    {
      "cell_type": "code",
      "execution_count": null,
      "metadata": {
        "id": "116gj5Z3YqEE"
      },
      "outputs": [],
      "source": [
        "follow_df = pd.DataFrame(list(zip(list_src,list_dst)), columns =['src','dst'])\n",
        "follow_df.to_csv(\"follow.csv\",index=False)"
      ]
    },
    {
      "cell_type": "markdown",
      "metadata": {
        "id": "uyGdpoqTNK1D"
      },
      "source": [
        "*Belongs_to*"
      ]
    },
    {
      "cell_type": "code",
      "execution_count": null,
      "metadata": {
        "id": "aHpRKje1NItb"
      },
      "outputs": [],
      "source": [
        "df_children = pd.read_json('/content/gdrive/Shareddrives/LSMSD-BookSocialNetwork/books_json/books_children.json')\n",
        "df_comics = pd.read_json('/content/gdrive/Shareddrives/LSMSD-BookSocialNetwork/books_json/books_comics.json')\n",
        "df_crime = pd.read_json('/content/gdrive/Shareddrives/LSMSD-BookSocialNetwork/books_json/books_crime.json')\n",
        "df_fantasy = pd.read_json('/content/gdrive/Shareddrives/LSMSD-BookSocialNetwork/books_json/books_fantasy.json')\n",
        "df_history = pd.read_json('/content/gdrive/Shareddrives/LSMSD-BookSocialNetwork/books_json/books_history.json')\n",
        "df_poetry = pd.read_json('/content/gdrive/Shareddrives/LSMSD-BookSocialNetwork/books_json/books_poetry.json')\n",
        "df_romance = pd.read_json('/content/gdrive/Shareddrives/LSMSD-BookSocialNetwork/books_json/books_romance.json')\n",
        "df_young = pd.read_json('/content/gdrive/Shareddrives/LSMSD-BookSocialNetwork/books_json/books_young.json')"
      ]
    },
    {
      "cell_type": "code",
      "execution_count": null,
      "metadata": {
        "id": "ABF1url9Nq-Y"
      },
      "outputs": [],
      "source": [
        "df_children = df_children[['isbn', 'category']]\n",
        "df_comics = df_comics[['isbn', 'category']]\n",
        "df_crime = df_crime[['isbn', 'category']]\n",
        "df_fantasy = df_fantasy[['isbn', 'category']]\n",
        "df_history = df_history[['isbn', 'category']]\n",
        "df_poetry = df_poetry[['isbn', 'category']]\n",
        "df_romance = df_romance[['isbn', 'category']]\n",
        "df_young = df_young[['isbn', 'category']]"
      ]
    },
    {
      "cell_type": "code",
      "execution_count": null,
      "metadata": {
        "id": "OA202Oo8kDnF"
      },
      "outputs": [],
      "source": [
        "frames = [df_children, df_comics, df_crime, df_fantasy, df_history, df_poetry, df_romance, df_young]\n",
        "df_complete = pd.concat(frames)\n",
        "df_complete.to_csv(\"belongs_books.csv\",index=False)"
      ]
    },
    {
      "cell_type": "markdown",
      "metadata": {
        "id": "ud5IYy0UT_l_"
      },
      "source": [
        "*Is_interested_to*"
      ]
    },
    {
      "cell_type": "code",
      "execution_count": null,
      "metadata": {
        "id": "zWq9pIZnUE5H"
      },
      "outputs": [],
      "source": [
        "length_cat = len(CATEGORIES)\n",
        "list_user = []\n",
        "list_interests = []\n",
        "for i in range(0,len(list_usernames)):\n",
        "  for j in range(0,random.randint(1,4)):\n",
        "    list_user.append(list_usernames[i])\n",
        "    list_interests.append(CATEGORIES[random.randint(0,length_cat-1)])\n"
      ]
    },
    {
      "cell_type": "code",
      "execution_count": null,
      "metadata": {
        "id": "Iz4gVZluqH_I"
      },
      "outputs": [],
      "source": [
        "isinterested_df = pd.DataFrame(list(zip(list_user,list_interests)), columns =['user','interest'])\n",
        "isinterested_df.to_csv(\"isinterested.csv\",index=False)"
      ]
    },
    {
      "cell_type": "markdown",
      "metadata": {
        "id": "-7yhPjDgtbyi"
      },
      "source": [
        "*Favorites*"
      ]
    },
    {
      "cell_type": "code",
      "execution_count": null,
      "metadata": {
        "id": "MT_m5BcptdH8"
      },
      "outputs": [],
      "source": [
        "df_favorites = pd.read_csv('/content/gdrive/Shareddrives/LSMSD-BookSocialNetwork/favourite_df.csv')"
      ]
    },
    {
      "cell_type": "code",
      "execution_count": null,
      "metadata": {
        "id": "1AI-HbbbtuRv"
      },
      "outputs": [],
      "source": [
        "df_favorites = df_favorites[['ISBN', 'username']]\n",
        "df_favorites.to_csv(\"favorites.csv\",index=False)"
      ]
    },
    {
      "cell_type": "markdown",
      "metadata": {
        "id": "PJAUZEluxcc3"
      },
      "source": [
        "*Has*"
      ]
    },
    {
      "cell_type": "code",
      "execution_count": null,
      "metadata": {
        "id": "Bs1L6Ra-xe8h"
      },
      "outputs": [],
      "source": [
        "df_rlhas = pd.read_csv('/content/gdrive/Shareddrives/LSMSD-BookSocialNetwork/reading_list_df.csv')"
      ]
    },
    {
      "cell_type": "code",
      "execution_count": null,
      "metadata": {
        "id": "qJLd5K3N4uHz"
      },
      "outputs": [],
      "source": [
        "def Convert(string):\n",
        "  string = string[1:-1]\n",
        "  li = list(string.split(\", \"))\n",
        "  return li"
      ]
    },
    {
      "cell_type": "code",
      "execution_count": null,
      "metadata": {
        "id": "pPG_yBL4yXrN"
      },
      "outputs": [],
      "source": [
        "list_rl = []\n",
        "list_books = []\n",
        "\n",
        "for index, row in df_rlhas.iterrows():\n",
        "  rl = row['username'] + \":\" + row['name']\n",
        "  list_tmp = Convert(row['ISBN'])\n",
        "  for book in list_tmp:\n",
        "    list_rl.append(rl)\n",
        "    list_books.append(book[1:-1])"
      ]
    },
    {
      "cell_type": "code",
      "execution_count": null,
      "metadata": {
        "id": "uiUlryLY7aHs"
      },
      "outputs": [],
      "source": [
        "readinglist_df = pd.DataFrame(list(zip(list_rl,list_books)), columns =['name','book'])\n",
        "readinglist_df.to_csv(\"rl_has.csv\",index=False)"
      ]
    },
    {
      "cell_type": "markdown",
      "metadata": {
        "id": "iAZVJoWddQkT"
      },
      "source": [
        "*Likes*"
      ]
    },
    {
      "cell_type": "code",
      "source": [
        "reading_list_df = pd.read_csv('/content/gdrive/Shareddrives/LSMSD-BookSocialNetwork/reading_list_df.csv')"
      ],
      "metadata": {
        "id": "RLEOezKcedbw"
      },
      "execution_count": null,
      "outputs": []
    },
    {
      "cell_type": "code",
      "source": [
        "list_likers = []\n",
        "list_names = []\n",
        "\n",
        "for index, row in reading_list_df.iterrows():\n",
        "  rlname = row['username'] + \":\" + row['name']\n",
        "  numlikes = row['numLikes']\n",
        "  for i in range(0,numlikes):\n",
        "    list_likers.append(list_usernames[random.randint(0,len(list_usernames)-1)])\n",
        "    list_names.append(rlname)\n"
      ],
      "metadata": {
        "id": "ZyXtIhWAey-0"
      },
      "execution_count": null,
      "outputs": []
    },
    {
      "cell_type": "code",
      "execution_count": null,
      "metadata": {
        "id": "KLBc7PbidRmK"
      },
      "outputs": [],
      "source": [
        "likes_df = pd.DataFrame(list(zip(list_likers,list_names)), columns =['user','readinglist'])"
      ]
    },
    {
      "cell_type": "code",
      "execution_count": null,
      "metadata": {
        "id": "kgQ7F839ddGC"
      },
      "outputs": [],
      "source": [
        "likes_df.to_csv(\"likes.csv\",index=False)"
      ]
    }
  ],
  "metadata": {
    "colab": {
      "collapsed_sections": [
        "RWZ3m093dNrz",
        "cj918F5RF2v9",
        "djL-V3CSjePM",
        "Xo4oGXjiF1HR",
        "xbPOXyaiJLeF",
        "aQW_E0Q70YdV",
        "99QtpY9iaUho"
      ],
      "provenance": []
    },
    "kernelspec": {
      "display_name": "Python 3",
      "name": "python3"
    },
    "language_info": {
      "name": "python"
    }
  },
  "nbformat": 4,
  "nbformat_minor": 0
}